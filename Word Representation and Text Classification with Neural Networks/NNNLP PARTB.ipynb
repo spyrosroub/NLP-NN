{
  "nbformat": 4,
  "nbformat_minor": 0,
  "metadata": {
    "accelerator": "GPU",
    "colab": {
      "name": "lab4_text_classification (1).ipynb",
      "provenance": [],
      "collapsed_sections": [],
      "toc_visible": true
    },
    "kernelspec": {
      "display_name": "Python 3",
      "language": "python",
      "name": "python3"
    },
    "language_info": {
      "codemirror_mode": {
        "name": "ipython",
        "version": 3
      },
      "file_extension": ".py",
      "mimetype": "text/x-python",
      "name": "python",
      "nbconvert_exporter": "python",
      "pygments_lexer": "ipython3",
      "version": "3.7.3"
    }
  },
  "cells": [
    {
      "cell_type": "markdown",
      "metadata": {
        "colab_type": "text",
        "id": "hExKCzh6doIW"
      },
      "source": [
        "# Lab 4 - Neural Network Classifier Using Simple Word Embeddings\n",
        "\n",
        "\n",
        "\n",
        "---\n",
        "\n",
        "\n",
        "\n",
        "\n",
        "\n",
        "\n",
        "\n",
        "\n",
        "\n",
        "\n",
        "\n",
        "\n",
        "\n"
      ]
    },
    {
      "cell_type": "markdown",
      "metadata": {
        "colab_type": "text",
        "id": "HixoFOoCIJ7V"
      },
      "source": [
        "In this session, we demonstrate how to solve a text classification task using simple \n",
        "feedforward neural network classifier. We will use IMDB Large Movie Review Dataset to train a binary classification model, able to predict whether a review is positive or negative. First, our network takes one-hot word vectors as input, averages them to make one vector and trains a \n",
        "fully-connected layer to predict the output. In the second part, we replace the one-hot vectors with the word embeddings and add a layer to see how much that improves the performance.\n",
        "\n",
        "We are going to use Keras Sequential API in this session. The Sequential API allows you to make models layer-by-layer. But it is not straightforward to define models where layers connect to more than just the previous and next layers. "
      ]
    },
    {
      "cell_type": "code",
      "metadata": {
        "colab_type": "code",
        "id": "m8fpBfhBpupy",
        "outputId": "74406e71-3050-46c4-c94a-bbbe3298bf27",
        "colab": {
          "base_uri": "https://localhost:8080/",
          "height": 79
        }
      },
      "source": [
        "import keras\n",
        "import numpy as np\n",
        "from keras.layers import Lambda, GlobalAveragePooling1D, Dense, Embedding\n",
        "from keras import backend as K\n",
        "from keras.models import Sequential\n"
      ],
      "execution_count": 0,
      "outputs": [
        {
          "output_type": "stream",
          "text": [
            "Using TensorFlow backend.\n"
          ],
          "name": "stderr"
        },
        {
          "output_type": "display_data",
          "data": {
            "text/html": [
              "<p style=\"color: red;\">\n",
              "The default version of TensorFlow in Colab will soon switch to TensorFlow 2.x.<br>\n",
              "We recommend you <a href=\"https://www.tensorflow.org/guide/migrate\" target=\"_blank\">upgrade</a> now \n",
              "or ensure your notebook will continue to use TensorFlow 1.x via the <code>%tensorflow_version 1.x</code> magic:\n",
              "<a href=\"https://colab.research.google.com/notebooks/tensorflow_version.ipynb\" target=\"_blank\">more info</a>.</p>\n"
            ],
            "text/plain": [
              "<IPython.core.display.HTML object>"
            ]
          },
          "metadata": {
            "tags": []
          }
        }
      ]
    },
    {
      "cell_type": "markdown",
      "metadata": {
        "colab_type": "text",
        "id": "cqvPQvgvPv1W"
      },
      "source": [
        "### Downloading data"
      ]
    },
    {
      "cell_type": "markdown",
      "metadata": {
        "colab_type": "text",
        "id": "EundMtGPpCdf"
      },
      "source": [
        "The dataset we will be using is the IMDB Large Movie Review Dataset, which consists of 50000 labeled movie reviews. These are split into 25,000 reviews for training and 25,000 reviews for testing. The  dataset contains an even number of positive and negative reviews, so randomly guessing yields 50% accuracy. The data is preprocessed. For text classification, it is ususal to limit the size of the vocabulary to stop the dataset from becoming too sparse, creating possible overfitting. We keep the top 10,000 most frequently occurring words in the training data.\n"
      ]
    },
    {
      "cell_type": "code",
      "metadata": {
        "colab_type": "code",
        "id": "NyuSzkafqNca",
        "outputId": "093b5bc6-9eb2-4d42-a75f-74c60b4025ab",
        "colab": {
          "base_uri": "https://localhost:8080/",
          "height": 50
        }
      },
      "source": [
        "imdb = keras.datasets.imdb\n",
        "(X_train, y_train), (X_test, y_test) = imdb.load_data(num_words=10000)"
      ],
      "execution_count": 0,
      "outputs": [
        {
          "output_type": "stream",
          "text": [
            "Downloading data from https://s3.amazonaws.com/text-datasets/imdb.npz\n",
            "17465344/17464789 [==============================] - 1s 0us/step\n"
          ],
          "name": "stdout"
        }
      ]
    },
    {
      "cell_type": "markdown",
      "metadata": {
        "colab_type": "text",
        "id": "6U4iCV9-rmay"
      },
      "source": [
        "We now can start playing around with the data, let’s first see the length:"
      ]
    },
    {
      "cell_type": "code",
      "metadata": {
        "colab_type": "code",
        "id": "h-gjWRAuqg5s",
        "outputId": "80b0bf43-5733-4167-a0f6-7e3624728bb7",
        "colab": {
          "base_uri": "https://localhost:8080/",
          "height": 33
        }
      },
      "source": [
        "print(\"Training entries: {}, labels: {}\".format(len(X_train), len(y_train)))"
      ],
      "execution_count": 0,
      "outputs": [
        {
          "output_type": "stream",
          "text": [
            "Training entries: 25000, labels: 25000\n"
          ],
          "name": "stdout"
        }
      ]
    },
    {
      "cell_type": "markdown",
      "metadata": {
        "colab_type": "text",
        "id": "MTRZrpcyr-4x"
      },
      "source": [
        "The  reviews have been converted to integers and each integer represents a  word in a dictionary. "
      ]
    },
    {
      "cell_type": "code",
      "metadata": {
        "colab_type": "code",
        "id": "79Ev72Kgq4XL",
        "outputId": "6c320422-007f-443a-d10f-f4b5e9d741f3",
        "colab": {
          "base_uri": "https://localhost:8080/",
          "height": 1000
        }
      },
      "source": [
        " X_train[0]"
      ],
      "execution_count": 0,
      "outputs": [
        {
          "output_type": "execute_result",
          "data": {
            "text/plain": [
              "[1,\n",
              " 14,\n",
              " 22,\n",
              " 16,\n",
              " 43,\n",
              " 530,\n",
              " 973,\n",
              " 1622,\n",
              " 1385,\n",
              " 65,\n",
              " 458,\n",
              " 4468,\n",
              " 66,\n",
              " 3941,\n",
              " 4,\n",
              " 173,\n",
              " 36,\n",
              " 256,\n",
              " 5,\n",
              " 25,\n",
              " 100,\n",
              " 43,\n",
              " 838,\n",
              " 112,\n",
              " 50,\n",
              " 670,\n",
              " 2,\n",
              " 9,\n",
              " 35,\n",
              " 480,\n",
              " 284,\n",
              " 5,\n",
              " 150,\n",
              " 4,\n",
              " 172,\n",
              " 112,\n",
              " 167,\n",
              " 2,\n",
              " 336,\n",
              " 385,\n",
              " 39,\n",
              " 4,\n",
              " 172,\n",
              " 4536,\n",
              " 1111,\n",
              " 17,\n",
              " 546,\n",
              " 38,\n",
              " 13,\n",
              " 447,\n",
              " 4,\n",
              " 192,\n",
              " 50,\n",
              " 16,\n",
              " 6,\n",
              " 147,\n",
              " 2025,\n",
              " 19,\n",
              " 14,\n",
              " 22,\n",
              " 4,\n",
              " 1920,\n",
              " 4613,\n",
              " 469,\n",
              " 4,\n",
              " 22,\n",
              " 71,\n",
              " 87,\n",
              " 12,\n",
              " 16,\n",
              " 43,\n",
              " 530,\n",
              " 38,\n",
              " 76,\n",
              " 15,\n",
              " 13,\n",
              " 1247,\n",
              " 4,\n",
              " 22,\n",
              " 17,\n",
              " 515,\n",
              " 17,\n",
              " 12,\n",
              " 16,\n",
              " 626,\n",
              " 18,\n",
              " 2,\n",
              " 5,\n",
              " 62,\n",
              " 386,\n",
              " 12,\n",
              " 8,\n",
              " 316,\n",
              " 8,\n",
              " 106,\n",
              " 5,\n",
              " 4,\n",
              " 2223,\n",
              " 5244,\n",
              " 16,\n",
              " 480,\n",
              " 66,\n",
              " 3785,\n",
              " 33,\n",
              " 4,\n",
              " 130,\n",
              " 12,\n",
              " 16,\n",
              " 38,\n",
              " 619,\n",
              " 5,\n",
              " 25,\n",
              " 124,\n",
              " 51,\n",
              " 36,\n",
              " 135,\n",
              " 48,\n",
              " 25,\n",
              " 1415,\n",
              " 33,\n",
              " 6,\n",
              " 22,\n",
              " 12,\n",
              " 215,\n",
              " 28,\n",
              " 77,\n",
              " 52,\n",
              " 5,\n",
              " 14,\n",
              " 407,\n",
              " 16,\n",
              " 82,\n",
              " 2,\n",
              " 8,\n",
              " 4,\n",
              " 107,\n",
              " 117,\n",
              " 5952,\n",
              " 15,\n",
              " 256,\n",
              " 4,\n",
              " 2,\n",
              " 7,\n",
              " 3766,\n",
              " 5,\n",
              " 723,\n",
              " 36,\n",
              " 71,\n",
              " 43,\n",
              " 530,\n",
              " 476,\n",
              " 26,\n",
              " 400,\n",
              " 317,\n",
              " 46,\n",
              " 7,\n",
              " 4,\n",
              " 2,\n",
              " 1029,\n",
              " 13,\n",
              " 104,\n",
              " 88,\n",
              " 4,\n",
              " 381,\n",
              " 15,\n",
              " 297,\n",
              " 98,\n",
              " 32,\n",
              " 2071,\n",
              " 56,\n",
              " 26,\n",
              " 141,\n",
              " 6,\n",
              " 194,\n",
              " 7486,\n",
              " 18,\n",
              " 4,\n",
              " 226,\n",
              " 22,\n",
              " 21,\n",
              " 134,\n",
              " 476,\n",
              " 26,\n",
              " 480,\n",
              " 5,\n",
              " 144,\n",
              " 30,\n",
              " 5535,\n",
              " 18,\n",
              " 51,\n",
              " 36,\n",
              " 28,\n",
              " 224,\n",
              " 92,\n",
              " 25,\n",
              " 104,\n",
              " 4,\n",
              " 226,\n",
              " 65,\n",
              " 16,\n",
              " 38,\n",
              " 1334,\n",
              " 88,\n",
              " 12,\n",
              " 16,\n",
              " 283,\n",
              " 5,\n",
              " 16,\n",
              " 4472,\n",
              " 113,\n",
              " 103,\n",
              " 32,\n",
              " 15,\n",
              " 16,\n",
              " 5345,\n",
              " 19,\n",
              " 178,\n",
              " 32]"
            ]
          },
          "metadata": {
            "tags": []
          },
          "execution_count": 4
        }
      ]
    },
    {
      "cell_type": "markdown",
      "metadata": {
        "colab_type": "text",
        "id": "Tvuu4KhStqei"
      },
      "source": [
        "We can convert integers back to words by querying a dictionary object that contains the integer to string mapping:"
      ]
    },
    {
      "cell_type": "code",
      "metadata": {
        "colab_type": "code",
        "id": "gMCH1OoDrSNR",
        "outputId": "75f4e326-da9c-41f1-92f7-c6b84a35a1e5",
        "colab": {
          "base_uri": "https://localhost:8080/",
          "height": 50
        }
      },
      "source": [
        "\n",
        "word_index = imdb.get_word_index()\n",
        "\n"
      ],
      "execution_count": 0,
      "outputs": [
        {
          "output_type": "stream",
          "text": [
            "Downloading data from https://s3.amazonaws.com/text-datasets/imdb_word_index.json\n",
            "1646592/1641221 [==============================] - 1s 0us/step\n"
          ],
          "name": "stdout"
        }
      ]
    },
    {
      "cell_type": "code",
      "metadata": {
        "id": "F2ZDP3Gnn-IJ",
        "colab_type": "code",
        "colab": {}
      },
      "source": [
        ""
      ],
      "execution_count": 0,
      "outputs": []
    },
    {
      "cell_type": "markdown",
      "metadata": {
        "colab_type": "text",
        "id": "5IreFXgruZot"
      },
      "source": [
        "Index 1 represents the beginning of the sentence and the index 2 is assigned to all unknown tokens. Index 0 will be used for padding."
      ]
    },
    {
      "cell_type": "code",
      "metadata": {
        "colab_type": "code",
        "id": "abIb7Fe5u3GQ",
        "colab": {}
      },
      "source": [
        "\n",
        "word_index = {k:(v+3) for k,v in word_index.items()}\n",
        "word_index[\"<PAD>\"] = 0\n",
        "word_index[\"<START>\"] = 1\n",
        "word_index[\"<UNK>\"] = 2  \n",
        "word_index[\"<UNUSED>\"] = 3"
      ],
      "execution_count": 0,
      "outputs": []
    },
    {
      "cell_type": "markdown",
      "metadata": {
        "colab_type": "text",
        "id": "9TnnSuspvC5b"
      },
      "source": [
        "To reverse key and values in a dictionary:"
      ]
    },
    {
      "cell_type": "code",
      "metadata": {
        "colab_type": "code",
        "id": "nKOiVVXQu-_I",
        "colab": {}
      },
      "source": [
        "reverse_word_index = dict([(value, key) for (key, value) in word_index.items()])"
      ],
      "execution_count": 0,
      "outputs": []
    },
    {
      "cell_type": "markdown",
      "metadata": {
        "colab_type": "text",
        "id": "ZmTJEm8xvUvW"
      },
      "source": [
        "To view a word:"
      ]
    },
    {
      "cell_type": "code",
      "metadata": {
        "colab_type": "code",
        "id": "SqN5jgVKvJJZ",
        "outputId": "45834496-807b-4e5e-d2d6-8e8ba6482db9",
        "colab": {
          "base_uri": "https://localhost:8080/",
          "height": 33
        }
      },
      "source": [
        "reverse_word_index[25]"
      ],
      "execution_count": 0,
      "outputs": [
        {
          "output_type": "execute_result",
          "data": {
            "text/plain": [
              "'you'"
            ]
          },
          "metadata": {
            "tags": []
          },
          "execution_count": 8
        }
      ]
    },
    {
      "cell_type": "markdown",
      "metadata": {
        "colab_type": "text",
        "id": "Q6QjrzgVvrYn"
      },
      "source": [
        "And to recreate the whole sentence from our training data we define decode_review:\n"
      ]
    },
    {
      "cell_type": "code",
      "metadata": {
        "colab_type": "code",
        "id": "wvrKeMgxvWlv",
        "colab": {}
      },
      "source": [
        "def decode_review(text):\n",
        "    return ' '.join([reverse_word_index.get(i, '?') for i in text])"
      ],
      "execution_count": 0,
      "outputs": []
    },
    {
      "cell_type": "code",
      "metadata": {
        "colab_type": "code",
        "id": "Sxg4YA_NvdRg",
        "outputId": "70c6de05-0703-4b6b-b878-9f307ac82f69",
        "colab": {
          "base_uri": "https://localhost:8080/",
          "height": 53
        }
      },
      "source": [
        "decode_review(X_train[10])"
      ],
      "execution_count": 0,
      "outputs": [
        {
          "output_type": "execute_result",
          "data": {
            "text/plain": [
              "\"<START> french horror cinema has seen something of a revival over the last couple of years with great films such as inside and <UNK> romance <UNK> on to the scene <UNK> <UNK> the revival just slightly but stands head and shoulders over most modern horror titles and is surely one of the best french horror films ever made <UNK> was obviously shot on a low budget but this is made up for in far more ways than one by the originality of the film and this in turn is <UNK> by the excellent writing and acting that ensure the film is a winner the plot focuses on two main ideas prison and black magic the central character is a man named <UNK> sent to prison for fraud he is put in a cell with three others the quietly insane <UNK> body building <UNK> marcus and his retarded boyfriend daisy after a short while in the cell together they stumble upon a hiding place in the wall that contains an old <UNK> after <UNK> part of it they soon realise its magical powers and realise they may be able to use it to break through the prison walls br br black magic is a very interesting topic and i'm actually quite surprised that there aren't more films based on it as there's so much scope for things to do with it it's fair to say that <UNK> makes the best of it's <UNK> as despite it's <UNK> the film never actually feels restrained and manages to flow well throughout director eric <UNK> provides a great atmosphere for the film the fact that most of it takes place inside the central prison cell <UNK> that the film feels very claustrophobic and this immensely benefits the central idea of the prisoners wanting to use magic to break out of the cell it's very easy to get behind them it's often said that the unknown is the thing that really <UNK> people and this film proves that as the director <UNK> that we can never really be sure of exactly what is round the corner and this helps to ensure that <UNK> actually does manage to be quite frightening the film is memorable for a lot of reasons outside the central plot the characters are all very interesting in their own way and the fact that the book itself almost takes on its own character is very well done anyone worried that the film won't deliver by the end won't be disappointed either as the ending both makes sense and manages to be quite horrifying overall <UNK> is a truly great horror film and one of the best of the decade highly recommended viewing\""
            ]
          },
          "metadata": {
            "tags": []
          },
          "execution_count": 10
        }
      ]
    },
    {
      "cell_type": "markdown",
      "metadata": {
        "colab_type": "text",
        "id": "c8gIzXncfaJK"
      },
      "source": [
        "### Creating One-hot word vectors"
      ]
    },
    {
      "cell_type": "markdown",
      "metadata": {
        "colab_type": "text",
        "id": "B9W4yb3rv_E0"
      },
      "source": [
        "It is  common to use one-hot representation as input in Natural Language Processing tasks. In Keras, the Embedding layer takes an index as an input and convert it to one-hot vector with the length of the vocabulary size. Then multiplies these vectors by a normal weight matrix. But there is no way to only get a one-hot vector as the output of a layer in Keras. To solve this we use Lambda() layer and a function that creates the one-hot layer. "
      ]
    },
    {
      "cell_type": "code",
      "metadata": {
        "colab_type": "code",
        "id": "RPO_pK9zH4C5",
        "colab": {}
      },
      "source": [
        "def OneHot(input_dim=None, input_length=None):\n",
        "    \n",
        "    if input_dim is None or input_length is None:\n",
        "        raise TypeError(\"input_dim or input_length is not set\")\n",
        "\n",
        "    \n",
        "    def _one_hot(x, num_classes):\n",
        "        return K.one_hot(K.cast(x, 'uint8'),\n",
        "                          num_classes=num_classes)\n",
        "\n",
        "    return Lambda(_one_hot,\n",
        "                  arguments={'num_classes': input_dim},\n",
        "                  input_shape=(input_length,))"
      ],
      "execution_count": 0,
      "outputs": []
    },
    {
      "cell_type": "markdown",
      "metadata": {
        "colab_type": "text",
        "id": "364d3MAw0ez9"
      },
      "source": [
        "input_dim refers to the length of the one-hot vector and input_length refers to the length of the input sequence. Since the input to K.one_hot should be an integer tensor, we cast x to one (Keras passes around float tensors by default).\n",
        "\n"
      ]
    },
    {
      "cell_type": "markdown",
      "metadata": {
        "colab_type": "text",
        "id": "VHz76GNA2M4r"
      },
      "source": [
        " Each text sequence has in most cases different length of words. Here, we fill sequences with a pad token (0) to fit the size. This special tokens is then masked not to be accounted in averaging, loss calculation etc. We set the maximum length to 256."
      ]
    },
    {
      "cell_type": "markdown",
      "metadata": {
        "colab_type": "text",
        "id": "9G_o7PsvgSFt"
      },
      "source": [
        "### Preparing input data"
      ]
    },
    {
      "cell_type": "code",
      "metadata": {
        "colab_type": "code",
        "id": "jiFn7sd_wF5j",
        "colab": {}
      },
      "source": [
        "VOCAB_SIZE = 10000\n",
        "MAX_SEQUENCE_LENGTH = 256\n",
        "\n",
        "X_train_enc = keras.preprocessing.sequence.pad_sequences(X_train,\n",
        "                                                        value=word_index[\"<PAD>\"],\n",
        "                                                        padding='post',\n",
        "                                                        maxlen=256)\n",
        "\n",
        "X_test_enc = keras.preprocessing.sequence.pad_sequences(X_test,\n",
        "                                                       value=word_index[\"<PAD>\"],\n",
        "                                                       padding='post',\n",
        "                                                       maxlen=256)"
      ],
      "execution_count": 0,
      "outputs": []
    },
    {
      "cell_type": "markdown",
      "metadata": {
        "colab_type": "text",
        "id": "kcjFH1wKF_7d"
      },
      "source": [
        "And to view a padded review:"
      ]
    },
    {
      "cell_type": "code",
      "metadata": {
        "colab_type": "code",
        "id": "zwH4dcfW_a18",
        "outputId": "f781a527-4dc9-48e2-9ebe-32704dad85d7",
        "colab": {
          "base_uri": "https://localhost:8080/",
          "height": 333
        }
      },
      "source": [
        "print(X_train_enc[1])\n"
      ],
      "execution_count": 0,
      "outputs": [
        {
          "output_type": "stream",
          "text": [
            "[   1  194 1153  194 8255   78  228    5    6 1463 4369 5012  134   26\n",
            "    4  715    8  118 1634   14  394   20   13  119  954  189  102    5\n",
            "  207  110 3103   21   14   69  188    8   30   23    7    4  249  126\n",
            "   93    4  114    9 2300 1523    5  647    4  116    9   35 8163    4\n",
            "  229    9  340 1322    4  118    9    4  130 4901   19    4 1002    5\n",
            "   89   29  952   46   37    4  455    9   45   43   38 1543 1905  398\n",
            "    4 1649   26 6853    5  163   11 3215    2    4 1153    9  194  775\n",
            "    7 8255    2  349 2637  148  605    2 8003   15  123  125   68    2\n",
            " 6853   15  349  165 4362   98    5    4  228    9   43    2 1157   15\n",
            "  299  120    5  120  174   11  220  175  136   50    9 4373  228 8255\n",
            "    5    2  656  245 2350    5    4 9837  131  152  491   18    2   32\n",
            " 7464 1212   14    9    6  371   78   22  625   64 1382    9    8  168\n",
            "  145   23    4 1690   15   16    4 1355    5   28    6   52  154  462\n",
            "   33   89   78  285   16  145   95    0    0    0    0    0    0    0\n",
            "    0    0    0    0    0    0    0    0    0    0    0    0    0    0\n",
            "    0    0    0    0    0    0    0    0    0    0    0    0    0    0\n",
            "    0    0    0    0    0    0    0    0    0    0    0    0    0    0\n",
            "    0    0    0    0    0    0    0    0    0    0    0    0    0    0\n",
            "    0    0    0    0]\n"
          ],
          "name": "stdout"
        }
      ]
    },
    {
      "cell_type": "markdown",
      "metadata": {
        "colab_type": "text",
        "id": "F1zcxFwNGepA"
      },
      "source": [
        "Now we want to build the neural network model. We  are going to have a hidden layer with 16 hidden units. \n",
        "\n",
        "First, we want to transform each index to an embedded vector and then average all vectors to a single one. It has been showed that unweighted average of word vectors outperforms many complicated networks that model semantic and syntactic compositionality. As an example you can take a look at this: (http://anthology.aclweb.org/P/P15/P15-1162.pdf)\n",
        "\n",
        "To average we need to ignore padded zeros:"
      ]
    },
    {
      "cell_type": "code",
      "metadata": {
        "colab_type": "code",
        "id": "Yi04MLIvJOGZ",
        "colab": {}
      },
      "source": [
        "class GlobalAveragePooling1DMasked(GlobalAveragePooling1D):\n",
        "    def call(self, x, mask=None):\n",
        "        if mask != None:\n",
        "            return K.sum(x, axis=1) / K.sum(mask, axis=1)\n",
        "        else:\n",
        "            return super().call(x)\n"
      ],
      "execution_count": 0,
      "outputs": []
    },
    {
      "cell_type": "markdown",
      "metadata": {
        "colab_type": "text",
        "id": "whgIIB5ggjna"
      },
      "source": [
        "### Neural Network model using one-hot vectors"
      ]
    },
    {
      "cell_type": "markdown",
      "metadata": {
        "colab_type": "text",
        "id": "jlOLnlnSJgrU"
      },
      "source": [
        "The first layer is an one-hot layer. \n",
        "The second layer is to compute average on all word vectors in a sentence without considering padding.\n",
        "The  output vector is piped through a fully-connected layer. \n",
        "The last layer is connected with a single output node with the sigmoid activation function. The final value is a float between 0 and 1.\n",
        "\n",
        "> Indented block\n",
        "\n",
        "\n",
        "The vocabulary count of the movie reviews (10000) is used as the input shape. At the end we visualize the model summary."
      ]
    },
    {
      "cell_type": "code",
      "metadata": {
        "id": "Hk0JTlNCFviW",
        "colab_type": "code",
        "outputId": "b48a6096-71eb-4585-9e10-f58f6f4beb0a",
        "colab": {
          "base_uri": "https://localhost:8080/",
          "height": 137
        }
      },
      "source": [
        "from keras import models\n",
        "from keras import layers\n",
        "\n",
        "model = models.Sequential()\n",
        "model.add(OneHot(input_dim=VOCAB_SIZE,input_length=MAX_SEQUENCE_LENGTH))\n",
        "model.add(GlobalAveragePooling1DMasked())\n",
        "model.add(layers.Dense(1, activation='sigmoid'))\n"
      ],
      "execution_count": 0,
      "outputs": [
        {
          "output_type": "stream",
          "text": [
            "WARNING:tensorflow:From /usr/local/lib/python3.6/dist-packages/keras/backend/tensorflow_backend.py:66: The name tf.get_default_graph is deprecated. Please use tf.compat.v1.get_default_graph instead.\n",
            "\n",
            "WARNING:tensorflow:From /usr/local/lib/python3.6/dist-packages/keras/backend/tensorflow_backend.py:541: The name tf.placeholder is deprecated. Please use tf.compat.v1.placeholder instead.\n",
            "\n",
            "WARNING:tensorflow:From /usr/local/lib/python3.6/dist-packages/keras/backend/tensorflow_backend.py:4432: The name tf.random_uniform is deprecated. Please use tf.random.uniform instead.\n",
            "\n"
          ],
          "name": "stdout"
        }
      ]
    },
    {
      "cell_type": "markdown",
      "metadata": {
        "colab_type": "text",
        "id": "_Mz96xpCgvTj"
      },
      "source": [
        "### Training the model"
      ]
    },
    {
      "cell_type": "markdown",
      "metadata": {
        "colab_type": "text",
        "id": "F3HbW_IKLqwT"
      },
      "source": [
        "To compile the model we need a loss function and an optimizer. We use binary_crossentropy loss function which is just a special case of categorical cross entropy. We also use Adam optimizer that can be used instead of the classical stochastic gradient descent procedure to update network weights iterative based in training data. You can read more about it here:\n",
        "(https://arxiv.org/abs/1412.6980v8\n",
        ")\n"
      ]
    },
    {
      "cell_type": "code",
      "metadata": {
        "colab_type": "code",
        "id": "qh1PWTNMxjUw",
        "outputId": "cd02a973-ec7d-46b1-ff2f-295efebfc2d5",
        "colab": {
          "base_uri": "https://localhost:8080/",
          "height": 153
        }
      },
      "source": [
        "model.compile(optimizer='adam',\n",
        "              loss='binary_crossentropy',\n",
        "              metrics=['accuracy'])"
      ],
      "execution_count": 0,
      "outputs": [
        {
          "output_type": "stream",
          "text": [
            "WARNING:tensorflow:From /usr/local/lib/python3.6/dist-packages/keras/optimizers.py:793: The name tf.train.Optimizer is deprecated. Please use tf.compat.v1.train.Optimizer instead.\n",
            "\n",
            "WARNING:tensorflow:From /usr/local/lib/python3.6/dist-packages/keras/backend/tensorflow_backend.py:3657: The name tf.log is deprecated. Please use tf.math.log instead.\n",
            "\n",
            "WARNING:tensorflow:From /usr/local/lib/python3.6/dist-packages/tensorflow_core/python/ops/nn_impl.py:183: where (from tensorflow.python.ops.array_ops) is deprecated and will be removed in a future version.\n",
            "Instructions for updating:\n",
            "Use tf.where in 2.0, which has the same broadcast rule as np.where\n"
          ],
          "name": "stdout"
        }
      ]
    },
    {
      "cell_type": "markdown",
      "metadata": {
        "colab_type": "text",
        "id": "E1jwQQqCN5Ia"
      },
      "source": [
        "When training, we want to check the accuracy of the model on data it hasn't seen before. So we create a validation set:"
      ]
    },
    {
      "cell_type": "code",
      "metadata": {
        "colab_type": "code",
        "id": "f5lAqzQlxjSM",
        "colab": {}
      },
      "source": [
        "X_val = np.array(X_train_enc[:10000])\n",
        "partial_X_train = np.array(X_train_enc[10000:])\n",
        "\n",
        "y_val = np.array(y_train[:10000])#\n",
        "partial_y_train = np.array(y_train[10000:])"
      ],
      "execution_count": 0,
      "outputs": []
    },
    {
      "cell_type": "markdown",
      "metadata": {
        "colab_type": "text",
        "id": "E8Kpo5G3OJEY"
      },
      "source": [
        "Then we start to train the model for 40 epochs in mini-batches of 512 samples and monitor the model's loss and accuracy on the validation set."
      ]
    },
    {
      "cell_type": "code",
      "metadata": {
        "colab_type": "code",
        "id": "99_z39KAxjPi",
        "outputId": "629233ab-dd88-485a-cbba-8549eacb1ec2",
        "colab": {
          "base_uri": "https://localhost:8080/",
          "height": 1000
        }
      },
      "source": [
        "history = model.fit(partial_X_train,\n",
        "                    partial_y_train,\n",
        "                    epochs=40,\n",
        "                    batch_size=512,\n",
        "                    validation_data=(X_val, y_val),\n",
        "                    verbose=1)"
      ],
      "execution_count": 0,
      "outputs": [
        {
          "output_type": "stream",
          "text": [
            "WARNING:tensorflow:From /usr/local/lib/python3.6/dist-packages/keras/backend/tensorflow_backend.py:1033: The name tf.assign_add is deprecated. Please use tf.compat.v1.assign_add instead.\n",
            "\n",
            "WARNING:tensorflow:From /usr/local/lib/python3.6/dist-packages/keras/backend/tensorflow_backend.py:1020: The name tf.assign is deprecated. Please use tf.compat.v1.assign instead.\n",
            "\n",
            "WARNING:tensorflow:From /usr/local/lib/python3.6/dist-packages/keras/backend/tensorflow_backend.py:3005: The name tf.Session is deprecated. Please use tf.compat.v1.Session instead.\n",
            "\n",
            "Train on 15000 samples, validate on 10000 samples\n",
            "Epoch 1/40\n",
            "WARNING:tensorflow:From /usr/local/lib/python3.6/dist-packages/keras/backend/tensorflow_backend.py:190: The name tf.get_default_session is deprecated. Please use tf.compat.v1.get_default_session instead.\n",
            "\n",
            "WARNING:tensorflow:From /usr/local/lib/python3.6/dist-packages/keras/backend/tensorflow_backend.py:197: The name tf.ConfigProto is deprecated. Please use tf.compat.v1.ConfigProto instead.\n",
            "\n",
            "WARNING:tensorflow:From /usr/local/lib/python3.6/dist-packages/keras/backend/tensorflow_backend.py:207: The name tf.global_variables is deprecated. Please use tf.compat.v1.global_variables instead.\n",
            "\n",
            "WARNING:tensorflow:From /usr/local/lib/python3.6/dist-packages/keras/backend/tensorflow_backend.py:216: The name tf.is_variable_initialized is deprecated. Please use tf.compat.v1.is_variable_initialized instead.\n",
            "\n",
            "WARNING:tensorflow:From /usr/local/lib/python3.6/dist-packages/keras/backend/tensorflow_backend.py:223: The name tf.variables_initializer is deprecated. Please use tf.compat.v1.variables_initializer instead.\n",
            "\n",
            "15000/15000 [==============================] - 12s 826us/step - loss: 0.6930 - acc: 0.5005 - val_loss: 0.6928 - val_acc: 0.4947\n",
            "Epoch 2/40\n",
            "15000/15000 [==============================] - 3s 196us/step - loss: 0.6925 - acc: 0.5035 - val_loss: 0.6924 - val_acc: 0.4952\n",
            "Epoch 3/40\n",
            "15000/15000 [==============================] - 3s 196us/step - loss: 0.6921 - acc: 0.5197 - val_loss: 0.6920 - val_acc: 0.5502\n",
            "Epoch 4/40\n",
            "15000/15000 [==============================] - 3s 198us/step - loss: 0.6917 - acc: 0.5563 - val_loss: 0.6916 - val_acc: 0.5661\n",
            "Epoch 5/40\n",
            "15000/15000 [==============================] - 3s 195us/step - loss: 0.6913 - acc: 0.6174 - val_loss: 0.6913 - val_acc: 0.6171\n",
            "Epoch 6/40\n",
            "15000/15000 [==============================] - 3s 196us/step - loss: 0.6909 - acc: 0.6428 - val_loss: 0.6909 - val_acc: 0.6308\n",
            "Epoch 7/40\n",
            "15000/15000 [==============================] - 3s 195us/step - loss: 0.6905 - acc: 0.6319 - val_loss: 0.6905 - val_acc: 0.6206\n",
            "Epoch 8/40\n",
            "15000/15000 [==============================] - 3s 195us/step - loss: 0.6901 - acc: 0.6162 - val_loss: 0.6902 - val_acc: 0.6108\n",
            "Epoch 9/40\n",
            "15000/15000 [==============================] - 3s 196us/step - loss: 0.6897 - acc: 0.6426 - val_loss: 0.6898 - val_acc: 0.6357\n",
            "Epoch 10/40\n",
            "15000/15000 [==============================] - 3s 196us/step - loss: 0.6892 - acc: 0.6338 - val_loss: 0.6894 - val_acc: 0.6271\n",
            "Epoch 11/40\n",
            "15000/15000 [==============================] - 3s 196us/step - loss: 0.6889 - acc: 0.6349 - val_loss: 0.6891 - val_acc: 0.6229\n",
            "Epoch 12/40\n",
            "15000/15000 [==============================] - 3s 195us/step - loss: 0.6884 - acc: 0.6511 - val_loss: 0.6886 - val_acc: 0.6550\n",
            "Epoch 13/40\n",
            "15000/15000 [==============================] - 3s 196us/step - loss: 0.6880 - acc: 0.6610 - val_loss: 0.6883 - val_acc: 0.6570\n",
            "Epoch 14/40\n",
            "15000/15000 [==============================] - 3s 197us/step - loss: 0.6877 - acc: 0.6684 - val_loss: 0.6879 - val_acc: 0.6607\n",
            "Epoch 15/40\n",
            "15000/15000 [==============================] - 3s 196us/step - loss: 0.6873 - acc: 0.6711 - val_loss: 0.6875 - val_acc: 0.6579\n",
            "Epoch 16/40\n",
            "15000/15000 [==============================] - 3s 194us/step - loss: 0.6869 - acc: 0.6677 - val_loss: 0.6872 - val_acc: 0.6587\n",
            "Epoch 17/40\n",
            "15000/15000 [==============================] - 3s 195us/step - loss: 0.6865 - acc: 0.6659 - val_loss: 0.6868 - val_acc: 0.6598\n",
            "Epoch 18/40\n",
            "15000/15000 [==============================] - 3s 197us/step - loss: 0.6861 - acc: 0.6733 - val_loss: 0.6864 - val_acc: 0.6642\n",
            "Epoch 19/40\n",
            "15000/15000 [==============================] - 3s 196us/step - loss: 0.6857 - acc: 0.6722 - val_loss: 0.6861 - val_acc: 0.6634\n",
            "Epoch 20/40\n",
            "15000/15000 [==============================] - 3s 196us/step - loss: 0.6853 - acc: 0.6717 - val_loss: 0.6857 - val_acc: 0.6654\n",
            "Epoch 21/40\n",
            "15000/15000 [==============================] - 3s 196us/step - loss: 0.6849 - acc: 0.6754 - val_loss: 0.6854 - val_acc: 0.6651\n",
            "Epoch 22/40\n",
            "15000/15000 [==============================] - 3s 198us/step - loss: 0.6846 - acc: 0.6750 - val_loss: 0.6850 - val_acc: 0.6657\n",
            "Epoch 23/40\n",
            "15000/15000 [==============================] - 3s 196us/step - loss: 0.6842 - acc: 0.6763 - val_loss: 0.6846 - val_acc: 0.6663\n",
            "Epoch 24/40\n",
            "15000/15000 [==============================] - 3s 195us/step - loss: 0.6838 - acc: 0.6721 - val_loss: 0.6843 - val_acc: 0.6663\n",
            "Epoch 25/40\n",
            "15000/15000 [==============================] - 3s 195us/step - loss: 0.6834 - acc: 0.6759 - val_loss: 0.6840 - val_acc: 0.6651\n",
            "Epoch 26/40\n",
            "15000/15000 [==============================] - 3s 196us/step - loss: 0.6830 - acc: 0.6776 - val_loss: 0.6836 - val_acc: 0.6664\n",
            "Epoch 27/40\n",
            "15000/15000 [==============================] - 3s 196us/step - loss: 0.6827 - acc: 0.6769 - val_loss: 0.6833 - val_acc: 0.6653\n",
            "Epoch 28/40\n",
            "15000/15000 [==============================] - 3s 197us/step - loss: 0.6823 - acc: 0.6757 - val_loss: 0.6829 - val_acc: 0.6661\n",
            "Epoch 29/40\n",
            "15000/15000 [==============================] - 3s 195us/step - loss: 0.6820 - acc: 0.6769 - val_loss: 0.6826 - val_acc: 0.6681\n",
            "Epoch 30/40\n",
            "15000/15000 [==============================] - 3s 195us/step - loss: 0.6816 - acc: 0.6763 - val_loss: 0.6823 - val_acc: 0.6672\n",
            "Epoch 31/40\n",
            "15000/15000 [==============================] - 3s 196us/step - loss: 0.6812 - acc: 0.6779 - val_loss: 0.6819 - val_acc: 0.6701\n",
            "Epoch 32/40\n",
            "15000/15000 [==============================] - 3s 195us/step - loss: 0.6809 - acc: 0.6787 - val_loss: 0.6815 - val_acc: 0.6688\n",
            "Epoch 33/40\n",
            "15000/15000 [==============================] - 3s 194us/step - loss: 0.6805 - acc: 0.6790 - val_loss: 0.6812 - val_acc: 0.6699\n",
            "Epoch 34/40\n",
            "15000/15000 [==============================] - 3s 195us/step - loss: 0.6801 - acc: 0.6781 - val_loss: 0.6808 - val_acc: 0.6696\n",
            "Epoch 35/40\n",
            "15000/15000 [==============================] - 3s 196us/step - loss: 0.6798 - acc: 0.6781 - val_loss: 0.6806 - val_acc: 0.6688\n",
            "Epoch 36/40\n",
            "15000/15000 [==============================] - 3s 195us/step - loss: 0.6794 - acc: 0.6794 - val_loss: 0.6802 - val_acc: 0.6697\n",
            "Epoch 37/40\n",
            "15000/15000 [==============================] - 3s 197us/step - loss: 0.6790 - acc: 0.6800 - val_loss: 0.6798 - val_acc: 0.6704\n",
            "Epoch 38/40\n",
            "15000/15000 [==============================] - 3s 196us/step - loss: 0.6787 - acc: 0.6813 - val_loss: 0.6795 - val_acc: 0.6703\n",
            "Epoch 39/40\n",
            "15000/15000 [==============================] - 3s 196us/step - loss: 0.6783 - acc: 0.6812 - val_loss: 0.6791 - val_acc: 0.6698\n",
            "Epoch 40/40\n",
            "15000/15000 [==============================] - 3s 196us/step - loss: 0.6779 - acc: 0.6809 - val_loss: 0.6788 - val_acc: 0.6702\n"
          ],
          "name": "stdout"
        }
      ]
    },
    {
      "cell_type": "markdown",
      "metadata": {
        "colab_type": "text",
        "id": "i_9a_rybhG5J"
      },
      "source": [
        "### Evaluating the model"
      ]
    },
    {
      "cell_type": "markdown",
      "metadata": {
        "colab_type": "text",
        "id": "EYLH8kOgOo9W"
      },
      "source": [
        "To evaulate the model on test data:"
      ]
    },
    {
      "cell_type": "code",
      "metadata": {
        "colab_type": "code",
        "id": "CFMt2Q7b3taP",
        "outputId": "7eeb4f4c-da0c-4aba-dfd7-7c7514740cfa",
        "colab": {
          "base_uri": "https://localhost:8080/",
          "height": 33
        }
      },
      "source": [
        "results = model.evaluate(X_test_enc, y_test)"
      ],
      "execution_count": 0,
      "outputs": [
        {
          "output_type": "stream",
          "text": [
            "25000/25000 [==============================] - 4s 142us/step\n"
          ],
          "name": "stdout"
        }
      ]
    },
    {
      "cell_type": "markdown",
      "metadata": {
        "id": "laxM1B9OvT0L",
        "colab_type": "text"
      },
      "source": [
        ""
      ]
    },
    {
      "cell_type": "code",
      "metadata": {
        "colab_type": "code",
        "id": "9RrKiPHcAmQU",
        "outputId": "2d08bde9-d245-48bd-c900-6a799083c470",
        "colab": {
          "base_uri": "https://localhost:8080/",
          "height": 33
        }
      },
      "source": [
        "print(results)\n",
        "# loss, accuracay "
      ],
      "execution_count": 0,
      "outputs": [
        {
          "output_type": "stream",
          "text": [
            "[0.6785999244117736, 0.67592]\n"
          ],
          "name": "stdout"
        }
      ]
    },
    {
      "cell_type": "code",
      "metadata": {
        "id": "AGcRvLMx2vtu",
        "colab_type": "code",
        "outputId": "ff286c24-a127-4dd7-a9b0-49a3a159b0be",
        "colab": {
          "base_uri": "https://localhost:8080/",
          "height": 250
        }
      },
      "source": [
        "model.summary()"
      ],
      "execution_count": 0,
      "outputs": [
        {
          "output_type": "stream",
          "text": [
            "Model: \"sequential_1\"\n",
            "_________________________________________________________________\n",
            "Layer (type)                 Output Shape              Param #   \n",
            "=================================================================\n",
            "lambda_1 (Lambda)            (None, 256, 10000)        0         \n",
            "_________________________________________________________________\n",
            "global_average_pooling1d_mas (None, 10000)             0         \n",
            "_________________________________________________________________\n",
            "dense_1 (Dense)              (None, 1)                 10001     \n",
            "=================================================================\n",
            "Total params: 10,001\n",
            "Trainable params: 10,001\n",
            "Non-trainable params: 0\n",
            "_________________________________________________________________\n"
          ],
          "name": "stdout"
        }
      ]
    },
    {
      "cell_type": "markdown",
      "metadata": {
        "colab_type": "text",
        "id": "pW7IpHxMO6qp"
      },
      "source": [
        "Our first model accuracy using one-hot vectors is \n",
        "\n",
        "\n",
        "\n"
      ]
    },
    {
      "cell_type": "markdown",
      "metadata": {
        "colab_type": "text",
        "id": "OwZk_yoWhPJB"
      },
      "source": [
        "### Plotting the accuracy graph"
      ]
    },
    {
      "cell_type": "markdown",
      "metadata": {
        "colab_type": "text",
        "id": "JIDPH1J7PMzN"
      },
      "source": [
        "To plot a graph of accuracy and loss over time we can use Matplotlib:"
      ]
    },
    {
      "cell_type": "code",
      "metadata": {
        "colab_type": "code",
        "id": "LS9k2vvSAqB7",
        "outputId": "ac79b585-2356-4eca-baeb-6c255e7720db",
        "colab": {
          "base_uri": "https://localhost:8080/",
          "height": 295
        }
      },
      "source": [
        "import matplotlib.pyplot as plt\n",
        "\n",
        "history_dict = history.history\n",
        "\n",
        "acc = history_dict['acc']\n",
        "val_acc = history_dict['val_acc']\n",
        "loss = history_dict['loss']\n",
        "val_loss = history_dict['val_loss']\n",
        "\n",
        "epochs = range(1, len(acc) + 1)\n",
        "\n",
        "plt.plot(epochs, acc, 'bo', label='Training acc')\n",
        "plt.plot(epochs, val_acc, 'b', label='Validation acc')\n",
        "plt.title('Training and validation accuracy')\n",
        "plt.xlabel('Epochs')\n",
        "plt.ylabel('Accuracy')\n",
        "plt.legend()\n",
        "\n",
        "plt.show()"
      ],
      "execution_count": 0,
      "outputs": [
        {
          "output_type": "display_data",
          "data": {
            "image/png": "[encoded data removed]",
            "text/plain": [
              "<Figure size 432x288 with 1 Axes>"
            ]
          },
          "metadata": {
            "tags": []
          }
        }
      ]
    },
    {
      "cell_type": "markdown",
      "metadata": {
        "colab_type": "text",
        "id": "a7OwOQw4h8RX"
      },
      "source": [
        "### Neural Network model using word embeddings"
      ]
    },
    {
      "cell_type": "markdown",
      "metadata": {
        "colab_type": "text",
        "id": "l-QzOMO_P4jc"
      },
      "source": [
        "Now instead of one-hot vectors, we want to use embedding. We change our first layer in model1 to an Embedding layer. This layer takes the integer-encoded vocabulary and looks up the embedding vector for each word-index. These vectors are learned as the model trains. The vectors add a dimension to the output array. The resulting dimensions are: (batch, sequence, embedding)."
      ]
    },
    {
      "cell_type": "code",
      "metadata": {
        "colab_type": "code",
        "id": "MFrCsL-NBFVL",
        "outputId": "860c5a34-6f0b-4a77-b4a7-173f7a18fdbb",
        "colab": {
          "base_uri": "https://localhost:8080/",
          "height": 1000
        }
      },
      "source": [
        "VOCAB_SIZE= 10000\n",
        "\n",
        "from keras import models\n",
        "from keras import layers\n",
        "\n",
        "model2 = models.Sequential()\n",
        "model2.add(Embedding(input_dim=VOCAB_SIZE,output_dim=16,input_length=MAX_SEQUENCE_LENGTH))\n",
        "model2.add(GlobalAveragePooling1DMasked())\n",
        "model2.add(layers.Dense(1, activation='sigmoid'))\n",
        "\n",
        "\n",
        "model2.compile(optimizer='adam',\n",
        "              loss='binary_crossentropy',\n",
        "              metrics=['accuracy'])\n",
        "\n",
        "X_val = np.array(X_train_enc[:10000])\n",
        "partial_X_train = np.array(X_train_enc[10000:])\n",
        "\n",
        "history2 = model2.fit(partial_X_train,\n",
        "                    partial_y_train,\n",
        "                    epochs=40,\n",
        "                    batch_size=512,\n",
        "                    validation_data=(X_val, y_val),\n",
        "                    verbose=1)\n",
        "\n",
        "results = model2.evaluate(X_test_enc, y_test)\n",
        "print(results)"
      ],
      "execution_count": 0,
      "outputs": [
        {
          "output_type": "stream",
          "text": [
            "Train on 15000 samples, validate on 10000 samples\n",
            "Epoch 1/40\n",
            "15000/15000 [==============================] - 0s 24us/step - loss: 0.6915 - acc: 0.6098 - val_loss: 0.6897 - val_acc: 0.6868\n",
            "Epoch 2/40\n",
            "15000/15000 [==============================] - 0s 12us/step - loss: 0.6873 - acc: 0.7193 - val_loss: 0.6855 - val_acc: 0.7240\n",
            "Epoch 3/40\n",
            "15000/15000 [==============================] - 0s 12us/step - loss: 0.6819 - acc: 0.7466 - val_loss: 0.6800 - val_acc: 0.7327\n",
            "Epoch 4/40\n",
            "15000/15000 [==============================] - 0s 12us/step - loss: 0.6752 - acc: 0.7483 - val_loss: 0.6733 - val_acc: 0.7369\n",
            "Epoch 5/40\n",
            "15000/15000 [==============================] - 0s 11us/step - loss: 0.6673 - acc: 0.7520 - val_loss: 0.6655 - val_acc: 0.7362\n",
            "Epoch 6/40\n",
            "15000/15000 [==============================] - 0s 11us/step - loss: 0.6581 - acc: 0.7602 - val_loss: 0.6568 - val_acc: 0.7466\n",
            "Epoch 7/40\n",
            "15000/15000 [==============================] - 0s 11us/step - loss: 0.6480 - acc: 0.7641 - val_loss: 0.6472 - val_acc: 0.7520\n",
            "Epoch 8/40\n",
            "15000/15000 [==============================] - 0s 11us/step - loss: 0.6370 - acc: 0.7722 - val_loss: 0.6371 - val_acc: 0.7573\n",
            "Epoch 9/40\n",
            "15000/15000 [==============================] - 0s 12us/step - loss: 0.6254 - acc: 0.7755 - val_loss: 0.6263 - val_acc: 0.7618\n",
            "Epoch 10/40\n",
            "15000/15000 [==============================] - 0s 11us/step - loss: 0.6134 - acc: 0.7825 - val_loss: 0.6154 - val_acc: 0.7677\n",
            "Epoch 11/40\n",
            "15000/15000 [==============================] - 0s 12us/step - loss: 0.6011 - acc: 0.7883 - val_loss: 0.6041 - val_acc: 0.7729\n",
            "Epoch 12/40\n",
            "15000/15000 [==============================] - 0s 12us/step - loss: 0.5886 - acc: 0.7939 - val_loss: 0.5929 - val_acc: 0.7782\n",
            "Epoch 13/40\n",
            "15000/15000 [==============================] - 0s 12us/step - loss: 0.5761 - acc: 0.8009 - val_loss: 0.5816 - val_acc: 0.7842\n",
            "Epoch 14/40\n",
            "15000/15000 [==============================] - 0s 11us/step - loss: 0.5637 - acc: 0.8062 - val_loss: 0.5704 - val_acc: 0.7901\n",
            "Epoch 15/40\n",
            "15000/15000 [==============================] - 0s 12us/step - loss: 0.5512 - acc: 0.8129 - val_loss: 0.5595 - val_acc: 0.7965\n",
            "Epoch 16/40\n",
            "15000/15000 [==============================] - 0s 12us/step - loss: 0.5390 - acc: 0.8176 - val_loss: 0.5487 - val_acc: 0.8004\n",
            "Epoch 17/40\n",
            "15000/15000 [==============================] - 0s 11us/step - loss: 0.5270 - acc: 0.8236 - val_loss: 0.5378 - val_acc: 0.8055\n",
            "Epoch 18/40\n",
            "15000/15000 [==============================] - 0s 11us/step - loss: 0.5152 - acc: 0.8293 - val_loss: 0.5274 - val_acc: 0.8108\n",
            "Epoch 19/40\n",
            "15000/15000 [==============================] - 0s 11us/step - loss: 0.5036 - acc: 0.8337 - val_loss: 0.5173 - val_acc: 0.8144\n",
            "Epoch 20/40\n",
            "15000/15000 [==============================] - 0s 11us/step - loss: 0.4925 - acc: 0.8379 - val_loss: 0.5074 - val_acc: 0.8195\n",
            "Epoch 21/40\n",
            "15000/15000 [==============================] - 0s 12us/step - loss: 0.4817 - acc: 0.8427 - val_loss: 0.4978 - val_acc: 0.8239\n",
            "Epoch 22/40\n",
            "15000/15000 [==============================] - 0s 11us/step - loss: 0.4711 - acc: 0.8469 - val_loss: 0.4886 - val_acc: 0.8262\n",
            "Epoch 23/40\n",
            "15000/15000 [==============================] - 0s 12us/step - loss: 0.4610 - acc: 0.8518 - val_loss: 0.4798 - val_acc: 0.8318\n",
            "Epoch 24/40\n",
            "15000/15000 [==============================] - 0s 11us/step - loss: 0.4512 - acc: 0.8553 - val_loss: 0.4712 - val_acc: 0.8338\n",
            "Epoch 25/40\n",
            "15000/15000 [==============================] - 0s 11us/step - loss: 0.4419 - acc: 0.8591 - val_loss: 0.4630 - val_acc: 0.8358\n",
            "Epoch 26/40\n",
            "15000/15000 [==============================] - 0s 11us/step - loss: 0.4328 - acc: 0.8623 - val_loss: 0.4553 - val_acc: 0.8390\n",
            "Epoch 27/40\n",
            "15000/15000 [==============================] - 0s 12us/step - loss: 0.4242 - acc: 0.8644 - val_loss: 0.4478 - val_acc: 0.8411\n",
            "Epoch 28/40\n",
            "15000/15000 [==============================] - 0s 12us/step - loss: 0.4157 - acc: 0.8681 - val_loss: 0.4408 - val_acc: 0.8443\n",
            "Epoch 29/40\n",
            "15000/15000 [==============================] - 0s 11us/step - loss: 0.4078 - acc: 0.8715 - val_loss: 0.4341 - val_acc: 0.8445\n",
            "Epoch 30/40\n",
            "15000/15000 [==============================] - 0s 11us/step - loss: 0.4000 - acc: 0.8738 - val_loss: 0.4275 - val_acc: 0.8479\n",
            "Epoch 31/40\n",
            "15000/15000 [==============================] - 0s 12us/step - loss: 0.3926 - acc: 0.8759 - val_loss: 0.4214 - val_acc: 0.8497\n",
            "Epoch 32/40\n",
            "15000/15000 [==============================] - 0s 12us/step - loss: 0.3855 - acc: 0.8771 - val_loss: 0.4155 - val_acc: 0.8515\n",
            "Epoch 33/40\n",
            "15000/15000 [==============================] - 0s 11us/step - loss: 0.3787 - acc: 0.8793 - val_loss: 0.4098 - val_acc: 0.8519\n",
            "Epoch 34/40\n",
            "15000/15000 [==============================] - 0s 11us/step - loss: 0.3721 - acc: 0.8807 - val_loss: 0.4045 - val_acc: 0.8536\n",
            "Epoch 35/40\n",
            "15000/15000 [==============================] - 0s 11us/step - loss: 0.3658 - acc: 0.8831 - val_loss: 0.3994 - val_acc: 0.8548\n",
            "Epoch 36/40\n",
            "15000/15000 [==============================] - 0s 12us/step - loss: 0.3597 - acc: 0.8861 - val_loss: 0.3946 - val_acc: 0.8568\n",
            "Epoch 37/40\n",
            "15000/15000 [==============================] - 0s 11us/step - loss: 0.3539 - acc: 0.8875 - val_loss: 0.3898 - val_acc: 0.8575\n",
            "Epoch 38/40\n",
            "15000/15000 [==============================] - 0s 11us/step - loss: 0.3482 - acc: 0.8894 - val_loss: 0.3854 - val_acc: 0.8592\n",
            "Epoch 39/40\n",
            "15000/15000 [==============================] - 0s 12us/step - loss: 0.3428 - acc: 0.8907 - val_loss: 0.3812 - val_acc: 0.8604\n",
            "Epoch 40/40\n",
            "15000/15000 [==============================] - 0s 12us/step - loss: 0.3375 - acc: 0.8926 - val_loss: 0.3771 - val_acc: 0.8611\n",
            "25000/25000 [==============================] - 1s 36us/step\n",
            "[0.38609499324798585, 0.85608]\n"
          ],
          "name": "stdout"
        }
      ]
    },
    {
      "cell_type": "code",
      "metadata": {
        "colab_type": "code",
        "id": "I4zIPJDcTPq3",
        "outputId": "c4a75b2b-9a25-468f-b48d-c41bb17e7569",
        "colab": {
          "base_uri": "https://localhost:8080/",
          "height": 33
        }
      },
      "source": [
        "results = model2.evaluate(X_test_enc, y_test)"
      ],
      "execution_count": 0,
      "outputs": [
        {
          "output_type": "stream",
          "text": [
            "25000/25000 [==============================] - 1s 34us/step\n"
          ],
          "name": "stdout"
        }
      ]
    },
    {
      "cell_type": "code",
      "metadata": {
        "id": "86d-HCd93JEP",
        "colab_type": "code",
        "outputId": "53ce55aa-8faa-4d34-aa21-5597d6aa3df3",
        "colab": {
          "base_uri": "https://localhost:8080/",
          "height": 250
        }
      },
      "source": [
        "model2.summary()"
      ],
      "execution_count": 0,
      "outputs": [
        {
          "output_type": "stream",
          "text": [
            "Model: \"sequential_2\"\n",
            "_________________________________________________________________\n",
            "Layer (type)                 Output Shape              Param #   \n",
            "=================================================================\n",
            "embedding_1 (Embedding)      (None, 256, 16)           160000    \n",
            "_________________________________________________________________\n",
            "global_average_pooling1d_mas (None, 16)                0         \n",
            "_________________________________________________________________\n",
            "dense_2 (Dense)              (None, 1)                 17        \n",
            "=================================================================\n",
            "Total params: 160,017\n",
            "Trainable params: 160,017\n",
            "Non-trainable params: 0\n",
            "_________________________________________________________________\n"
          ],
          "name": "stdout"
        }
      ]
    },
    {
      "cell_type": "code",
      "metadata": {
        "colab_type": "code",
        "id": "waS96edDTRyL",
        "outputId": "eba2cf43-5926-4177-ce06-8043ec414d67",
        "colab": {
          "base_uri": "https://localhost:8080/",
          "height": 33
        }
      },
      "source": [
        "print (results)"
      ],
      "execution_count": 0,
      "outputs": [
        {
          "output_type": "stream",
          "text": [
            "[0.38609499324798585, 0.85608]\n"
          ],
          "name": "stdout"
        }
      ]
    },
    {
      "cell_type": "code",
      "metadata": {
        "colab_type": "code",
        "id": "XB7aveVzTC5a",
        "outputId": "ff17a121-a937-493a-90ff-f469ad34002f",
        "colab": {
          "base_uri": "https://localhost:8080/",
          "height": 295
        }
      },
      "source": [
        "import matplotlib.pyplot as plt\n",
        "\n",
        "history_dict = history2.history\n",
        "\n",
        "acc = history_dict['acc']\n",
        "val_acc = history_dict['val_acc']\n",
        "loss = history_dict['loss']\n",
        "val_loss = history_dict['val_loss']\n",
        "\n",
        "epochs = range(1, len(acc) + 1)\n",
        "\n",
        "plt.plot(epochs, acc, 'bo', label='Training acc')\n",
        "plt.plot(epochs, val_acc, 'b', label='Validation acc')\n",
        "plt.title('Training and validation accuracy')\n",
        "plt.xlabel('Epochs')\n",
        "plt.ylabel('Accuracy')\n",
        "plt.legend()\n",
        "\n",
        "plt.show()"
      ],
      "execution_count": 0,
      "outputs": [
        {
          "output_type": "display_data",
          "data": {
            "image/png": "[encoded data removed]",
            "text/plain": [
              "<Figure size 432x288 with 1 Axes>"
            ]
          },
          "metadata": {
            "tags": []
          }
        }
      ]
    },
    {
      "cell_type": "markdown",
      "metadata": {
        "colab_type": "text",
        "id": "7FBpTc_rXGvQ"
      },
      "source": [
        "The accuracy of model2 is 87%. Using Embedding layer instead of one-hot layer improved the performance."
      ]
    },
    {
      "cell_type": "markdown",
      "metadata": {
        "colab_type": "text",
        "id": "--020hfG6rN2"
      },
      "source": [
        "### Using pre-trained word embeddings"
      ]
    },
    {
      "cell_type": "markdown",
      "metadata": {
        "colab_type": "text",
        "id": "J4gBeOyi4gkM"
      },
      "source": [
        "The Embedding layer can be used to load a pre-trained word embedding model. We are going to use GloVe embeddings, which you can read about it here (https://nlp.stanford.edu/projects/glove/). GloVe stands for \"Global Vectors for Word Representation\". It's a somewhat popular embedding technique based on factorizing a matrix of word co-occurence statistics. You can download GloVe and we can seed the Keras Embedding layer with weights from the pre-trained embedding for the words in your dataset.\n",
        "First, we need to read GloVe and map words to GloVe:\n"
      ]
    },
    {
      "cell_type": "code",
      "metadata": {
        "colab_type": "code",
        "id": "f_PypdqG9Iis",
        "colab": {}
      },
      "source": [
        "from keras.initializers import constant\n",
        "def readGloveFile(gloveFile):\n",
        "    with open(gloveFile, 'r') as f:\n",
        "        wordToGlove = {}  \n",
        "        wordToIndex = {}  \n",
        "        indexToWord = {}  \n",
        "\n",
        "        for line in f:\n",
        "            record = line.strip().split()\n",
        "            token = record[0] \n",
        "            wordToGlove[token] = np.array(record[1:], dtype=np.float64) \n",
        "            \n",
        "        tokens = sorted(wordToGlove.keys())\n",
        "        for idx, tok in enumerate(tokens):\n",
        "            kerasIdx = idx + 1  \n",
        "            wordToIndex[tok] = kerasIdx \n",
        "            indexToWord[kerasIdx] = tok \n",
        "\n",
        "    return wordToIndex, indexToWord, wordToGlove"
      ],
      "execution_count": 0,
      "outputs": []
    },
    {
      "cell_type": "markdown",
      "metadata": {
        "colab_type": "text",
        "id": "ZcIZ3dq59bCh"
      },
      "source": [
        "Now, we create our pre-trained Embedding layer:"
      ]
    },
    {
      "cell_type": "code",
      "metadata": {
        "colab_type": "code",
        "id": "gembn7VM3ex8",
        "colab": {}
      },
      "source": [
        "def createPretrainedEmbeddingLayer(wordToGlove, wordToIndex, isTrainable):\n",
        "    vocabLen = len(wordToIndex) + 1  \n",
        "    embDim = next(iter(wordToGlove.values())).shape[0]  \n",
        "   \n",
        "    embeddingMatrix = np.zeros((vocabLen, embDim))  \n",
        "    for word, index in wordToIndex.items():\n",
        "        embeddingMatrix[index, :] = wordToGlove[word] \n",
        "\n",
        "    embeddingLayer = Embedding(vocabLen, embDim, embeddings_initializer=Constant(embeddingMatrix), trainable=isTrainable)\n",
        "    return embeddingLayer"
      ],
      "execution_count": 0,
      "outputs": []
    },
    {
      "cell_type": "markdown",
      "metadata": {
        "colab_type": "text",
        "id": "HGxciLK4-xOr"
      },
      "source": [
        "We freeze the weights. To create the model:"
      ]
    },
    {
      "cell_type": "code",
      "metadata": {
        "colab_type": "code",
        "id": "PZCPUM0W_Drc",
        "colab": {}
      },
      "source": [
        "# put the code here\n",
        "from keras.initializers import Constant\n",
        "\n",
        "wordToIndex, indexToWord, wordToGlove=readGloveFile(gloveFile='glove.6B.50d.txt')\n",
        "PretrainedEmbeddingLayer= createPretrainedEmbeddingLayer(wordToGlove, wordToIndex, isTrainable='FALSE')\n"
      ],
      "execution_count": 0,
      "outputs": []
    },
    {
      "cell_type": "markdown",
      "metadata": {
        "colab_type": "text",
        "id": "M-bZ5SCHiIMl"
      },
      "source": [
        "### Adding another hidden layer to the network"
      ]
    },
    {
      "cell_type": "markdown",
      "metadata": {
        "colab_type": "text",
        "id": "ZbZ6UBDfbjea"
      },
      "source": [
        "In model3, we only add another dense layer to see if that improves the performance."
      ]
    },
    {
      "cell_type": "code",
      "metadata": {
        "colab_type": "code",
        "id": "Vw0le1YjDdCa",
        "colab": {}
      },
      "source": [
        "model3 = models.Sequential()\n",
        "model3.add(PretrainedEmbeddingLayer)\n",
        "model3.add(GlobalAveragePooling1DMasked())\n",
        "model3.add(layers.Dense(16, activation='relu'))\n",
        "model3.add(layers.Dense(1, activation='sigmoid'))\n",
        "\n",
        "\n",
        "\n"
      ],
      "execution_count": 0,
      "outputs": []
    },
    {
      "cell_type": "code",
      "metadata": {
        "id": "iDpDdpsFWrt9",
        "colab_type": "code",
        "colab": {
          "base_uri": "https://localhost:8080/",
          "height": 1000
        },
        "outputId": "9e3bf024-eed4-4bbd-e754-660ce3a7fc62"
      },
      "source": [
        "model3.compile(optimizer='adam',\n",
        "              loss='binary_crossentropy',\n",
        "              metrics=['accuracy'])\n",
        "\n",
        "X_val = np.array(X_train_enc[:10000])\n",
        "partial_X_train = np.array(X_train_enc[10000:])\n",
        "\n",
        "history3 = model3.fit(partial_X_train,\n",
        "                    partial_y_train,\n",
        "                    epochs=40,\n",
        "                    batch_size=512,\n",
        "                    validation_data=(X_val, y_val),\n",
        "                    verbose=1)\n",
        "\n",
        "results = model3.evaluate(X_test_enc, y_test)\n",
        "print(results)"
      ],
      "execution_count": 33,
      "outputs": [
        {
          "output_type": "stream",
          "text": [
            "Train on 15000 samples, validate on 10000 samples\n",
            "Epoch 1/40\n",
            "15000/15000 [==============================] - 1s 98us/step - loss: 0.6952 - acc: 0.5252 - val_loss: 0.6878 - val_acc: 0.5763\n",
            "Epoch 2/40\n",
            "15000/15000 [==============================] - 0s 26us/step - loss: 0.6850 - acc: 0.5815 - val_loss: 0.6818 - val_acc: 0.5947\n",
            "Epoch 3/40\n",
            "15000/15000 [==============================] - 0s 26us/step - loss: 0.6773 - acc: 0.6193 - val_loss: 0.6735 - val_acc: 0.6384\n",
            "Epoch 4/40\n",
            "15000/15000 [==============================] - 0s 26us/step - loss: 0.6665 - acc: 0.6553 - val_loss: 0.6621 - val_acc: 0.6603\n",
            "Epoch 5/40\n",
            "15000/15000 [==============================] - 0s 25us/step - loss: 0.6510 - acc: 0.6814 - val_loss: 0.6449 - val_acc: 0.6853\n",
            "Epoch 6/40\n",
            "15000/15000 [==============================] - 0s 26us/step - loss: 0.6283 - acc: 0.7052 - val_loss: 0.6194 - val_acc: 0.7088\n",
            "Epoch 7/40\n",
            "15000/15000 [==============================] - 0s 27us/step - loss: 0.5958 - acc: 0.7364 - val_loss: 0.5856 - val_acc: 0.7404\n",
            "Epoch 8/40\n",
            "15000/15000 [==============================] - 0s 26us/step - loss: 0.5553 - acc: 0.7693 - val_loss: 0.5459 - val_acc: 0.7723\n",
            "Epoch 9/40\n",
            "15000/15000 [==============================] - 0s 26us/step - loss: 0.5097 - acc: 0.8029 - val_loss: 0.5040 - val_acc: 0.7947\n",
            "Epoch 10/40\n",
            "15000/15000 [==============================] - 0s 27us/step - loss: 0.4641 - acc: 0.8251 - val_loss: 0.4636 - val_acc: 0.8197\n",
            "Epoch 11/40\n",
            "15000/15000 [==============================] - 0s 26us/step - loss: 0.4211 - acc: 0.8464 - val_loss: 0.4290 - val_acc: 0.8361\n",
            "Epoch 12/40\n",
            "15000/15000 [==============================] - 0s 26us/step - loss: 0.3850 - acc: 0.8600 - val_loss: 0.4010 - val_acc: 0.8460\n",
            "Epoch 13/40\n",
            "15000/15000 [==============================] - 0s 26us/step - loss: 0.3547 - acc: 0.8714 - val_loss: 0.3792 - val_acc: 0.8504\n",
            "Epoch 14/40\n",
            "15000/15000 [==============================] - 0s 27us/step - loss: 0.3290 - acc: 0.8805 - val_loss: 0.3607 - val_acc: 0.8621\n",
            "Epoch 15/40\n",
            "15000/15000 [==============================] - 0s 26us/step - loss: 0.3078 - acc: 0.8893 - val_loss: 0.3496 - val_acc: 0.8595\n",
            "Epoch 16/40\n",
            "15000/15000 [==============================] - 0s 26us/step - loss: 0.2898 - acc: 0.8951 - val_loss: 0.3365 - val_acc: 0.8684\n",
            "Epoch 17/40\n",
            "15000/15000 [==============================] - 0s 27us/step - loss: 0.2729 - acc: 0.9017 - val_loss: 0.3265 - val_acc: 0.8727\n",
            "Epoch 18/40\n",
            "15000/15000 [==============================] - 0s 27us/step - loss: 0.2587 - acc: 0.9071 - val_loss: 0.3199 - val_acc: 0.8717\n",
            "Epoch 19/40\n",
            "15000/15000 [==============================] - 0s 27us/step - loss: 0.2458 - acc: 0.9105 - val_loss: 0.3129 - val_acc: 0.8758\n",
            "Epoch 20/40\n",
            "15000/15000 [==============================] - 0s 26us/step - loss: 0.2336 - acc: 0.9159 - val_loss: 0.3082 - val_acc: 0.8778\n",
            "Epoch 21/40\n",
            "15000/15000 [==============================] - 0s 25us/step - loss: 0.2227 - acc: 0.9201 - val_loss: 0.3038 - val_acc: 0.8774\n",
            "Epoch 22/40\n",
            "15000/15000 [==============================] - 0s 27us/step - loss: 0.2125 - acc: 0.9245 - val_loss: 0.3003 - val_acc: 0.8790\n",
            "Epoch 23/40\n",
            "15000/15000 [==============================] - 0s 26us/step - loss: 0.2031 - acc: 0.9274 - val_loss: 0.2979 - val_acc: 0.8803\n",
            "Epoch 24/40\n",
            "15000/15000 [==============================] - 0s 26us/step - loss: 0.1946 - acc: 0.9321 - val_loss: 0.2957 - val_acc: 0.8814\n",
            "Epoch 25/40\n",
            "15000/15000 [==============================] - 0s 26us/step - loss: 0.1859 - acc: 0.9357 - val_loss: 0.2943 - val_acc: 0.8811\n",
            "Epoch 26/40\n",
            "15000/15000 [==============================] - 0s 26us/step - loss: 0.1783 - acc: 0.9387 - val_loss: 0.2934 - val_acc: 0.8810\n",
            "Epoch 27/40\n",
            "15000/15000 [==============================] - 0s 27us/step - loss: 0.1714 - acc: 0.9413 - val_loss: 0.2926 - val_acc: 0.8820\n",
            "Epoch 28/40\n",
            "15000/15000 [==============================] - 0s 26us/step - loss: 0.1640 - acc: 0.9448 - val_loss: 0.2927 - val_acc: 0.8819\n",
            "Epoch 29/40\n",
            "15000/15000 [==============================] - 0s 26us/step - loss: 0.1576 - acc: 0.9479 - val_loss: 0.2939 - val_acc: 0.8814\n",
            "Epoch 30/40\n",
            "15000/15000 [==============================] - 0s 26us/step - loss: 0.1509 - acc: 0.9516 - val_loss: 0.2933 - val_acc: 0.8828\n",
            "Epoch 31/40\n",
            "15000/15000 [==============================] - 0s 26us/step - loss: 0.1453 - acc: 0.9538 - val_loss: 0.2945 - val_acc: 0.8830\n",
            "Epoch 32/40\n",
            "15000/15000 [==============================] - 0s 27us/step - loss: 0.1397 - acc: 0.9574 - val_loss: 0.2985 - val_acc: 0.8818\n",
            "Epoch 33/40\n",
            "15000/15000 [==============================] - 0s 26us/step - loss: 0.1348 - acc: 0.9574 - val_loss: 0.2962 - val_acc: 0.8835\n",
            "Epoch 34/40\n",
            "15000/15000 [==============================] - 0s 26us/step - loss: 0.1293 - acc: 0.9599 - val_loss: 0.2986 - val_acc: 0.8828\n",
            "Epoch 35/40\n",
            "15000/15000 [==============================] - 0s 26us/step - loss: 0.1249 - acc: 0.9612 - val_loss: 0.3001 - val_acc: 0.8824\n",
            "Epoch 36/40\n",
            "15000/15000 [==============================] - 0s 27us/step - loss: 0.1196 - acc: 0.9642 - val_loss: 0.3020 - val_acc: 0.8813\n",
            "Epoch 37/40\n",
            "15000/15000 [==============================] - 0s 26us/step - loss: 0.1168 - acc: 0.9640 - val_loss: 0.3054 - val_acc: 0.8822\n",
            "Epoch 38/40\n",
            "15000/15000 [==============================] - 0s 25us/step - loss: 0.1108 - acc: 0.9681 - val_loss: 0.3071 - val_acc: 0.8812\n",
            "Epoch 39/40\n",
            "15000/15000 [==============================] - 0s 26us/step - loss: 0.1068 - acc: 0.9692 - val_loss: 0.3101 - val_acc: 0.8809\n",
            "Epoch 40/40\n",
            "15000/15000 [==============================] - 0s 27us/step - loss: 0.1030 - acc: 0.9711 - val_loss: 0.3137 - val_acc: 0.8814\n",
            "25000/25000 [==============================] - 1s 38us/step\n",
            "[0.3307963452911377, 0.87044]\n"
          ],
          "name": "stdout"
        }
      ]
    },
    {
      "cell_type": "code",
      "metadata": {
        "id": "BCrPg9ncOQIv",
        "colab_type": "code",
        "colab": {
          "base_uri": "https://localhost:8080/",
          "height": 33
        },
        "outputId": "5770fc22-4719-4a14-9c4c-d1cb19ebb727"
      },
      "source": [
        "print(results)"
      ],
      "execution_count": 36,
      "outputs": [
        {
          "output_type": "stream",
          "text": [
            "[0.3307963452911377, 0.87044]\n"
          ],
          "name": "stdout"
        }
      ]
    },
    {
      "cell_type": "code",
      "metadata": {
        "id": "RVQnJBsuOCMf",
        "colab_type": "code",
        "colab": {
          "base_uri": "https://localhost:8080/",
          "height": 283
        },
        "outputId": "a4ca65ff-7517-4aae-c092-0f18bca191b4"
      },
      "source": [
        "model3.summary()"
      ],
      "execution_count": 35,
      "outputs": [
        {
          "output_type": "stream",
          "text": [
            "Model: \"sequential_3\"\n",
            "_________________________________________________________________\n",
            "Layer (type)                 Output Shape              Param #   \n",
            "=================================================================\n",
            "embedding_2 (Embedding)      (None, None, 50)          20000050  \n",
            "_________________________________________________________________\n",
            "global_average_pooling1d_mas (None, 50)                0         \n",
            "_________________________________________________________________\n",
            "dense_3 (Dense)              (None, 16)                816       \n",
            "_________________________________________________________________\n",
            "dense_4 (Dense)              (None, 1)                 17        \n",
            "=================================================================\n",
            "Total params: 20,000,883\n",
            "Trainable params: 20,000,883\n",
            "Non-trainable params: 0\n",
            "_________________________________________________________________\n"
          ],
          "name": "stdout"
        }
      ]
    },
    {
      "cell_type": "code",
      "metadata": {
        "colab_type": "code",
        "id": "QtsdVeW7UgCu",
        "colab": {
          "base_uri": "https://localhost:8080/",
          "height": 295
        },
        "outputId": "fff639b7-a616-437c-cc1e-e40a9d352541"
      },
      "source": [
        "import matplotlib.pyplot as plt\n",
        "\n",
        "history_dict = history3.history\n",
        "\n",
        "acc = history_dict['acc']\n",
        "val_acc = history_dict['val_acc']\n",
        "loss = history_dict['loss']\n",
        "val_loss = history_dict['val_loss']\n",
        "\n",
        "epochs = range(1, len(acc) + 1)\n",
        "\n",
        "plt.plot(epochs, acc, 'bo', label='Training acc')\n",
        "plt.plot(epochs, val_acc, 'b', label='Validation acc')\n",
        "plt.title('Training and validation accuracy')\n",
        "plt.xlabel('Epochs')\n",
        "plt.ylabel('Accuracy')\n",
        "plt.legend()\n",
        "\n",
        "plt.show()"
      ],
      "execution_count": 34,
      "outputs": [
        {
          "output_type": "display_data",
          "data": {
            "image/png": "[encoded data removed]",
            "text/plain": [
              "<Figure size 432x288 with 1 Axes>"
            ]
          },
          "metadata": {
            "tags": []
          }
        }
      ]
    },
    {
      "cell_type": "markdown",
      "metadata": {
        "colab_type": "text",
        "id": "Kx--Ytk3ZbLo"
      },
      "source": [
        "The accuracy of model3 with an additional layer is 85%. Adding more layers can help you to extract more features. But we can do that upto a certain extent. After some point, instead of extracting features, we tend to overfit the data. Overfitting can lead to errors in some or the other form like false positives. It is not easy to choose the number of units in a hidden layer or the number of hidden layers in a neural network. For many applications, one hidden layer is enough. As a general rule, the number of units in that hidden layer is between the number of inputs and the number of outputs.\n",
        " The best way to decide on the number of units and hidden layers is to try various parameters. Train several neural networks with different numbers of hidden layers and neurons, and monitor the performance of them. You will have to experiment using a series of different architectures. \n",
        "\n",
        "\n",
        "\n"
      ]
    },
    {
      "cell_type": "markdown",
      "metadata": {
        "colab_type": "text",
        "id": "gn2GSV4ioyO2"
      },
      "source": [
        "\n",
        "\n",
        "---\n",
        "\n"
      ]
    },
    {
      "cell_type": "code",
      "metadata": {
        "colab_type": "code",
        "id": "XYC6DykEox2w",
        "colab": {}
      },
      "source": [
        ""
      ],
      "execution_count": 0,
      "outputs": []
    },
    {
      "cell_type": "markdown",
      "metadata": {
        "colab_type": "text",
        "id": "GsCJ01StlgCx"
      },
      "source": [
        "This tutorial is substantially based on this document:\n",
        "https://www.tensorflow.org/tutorials/keras/basic_text_classification\n",
        "\n",
        "To read more about Sequential APIs you can go to: https://keras.io/getting-started/sequential-model-guide/\n",
        "\n",
        "The one-hot word vector layer is taken from:\n",
        "https://fdalvi.github.io/blog/2018-04-07-keras-sequential-onehot/\n"
      ]
    },
    {
      "cell_type": "code",
      "metadata": {
        "colab_type": "code",
        "id": "jL0UovfaE9GE",
        "colab": {}
      },
      "source": [
        "model4 = models.Sequential()\n",
        "model4.add(PretrainedEmbeddingLayer)\n",
        "model4.add(GlobalAveragePooling1DMasked())\n",
        "model4.add(layers.Dense(16, activation='relu'))\n",
        "model4.add(layers.Dense(1, activation='sigmoid'))"
      ],
      "execution_count": 0,
      "outputs": []
    },
    {
      "cell_type": "code",
      "metadata": {
        "id": "eHEatMLeP1-X",
        "colab_type": "code",
        "colab": {
          "base_uri": "https://localhost:8080/",
          "height": 1000
        },
        "outputId": "f5bfd06e-4ef9-4727-b1e9-ef1167d0cfe1"
      },
      "source": [
        "model4.compile(optimizer='adam',\n",
        "              loss='binary_crossentropy',\n",
        "              metrics=['accuracy'])\n",
        "\n",
        "X_val = np.array(X_train_enc[:10000])\n",
        "partial_X_train = np.array(X_train_enc[10000:])\n",
        "\n",
        "history4 = model4.fit(partial_X_train,\n",
        "                    partial_y_train,\n",
        "                    epochs=40,\n",
        "                    batch_size=512,\n",
        "                    validation_data=(X_val, y_val),\n",
        "                    verbose=1)\n",
        "\n"
      ],
      "execution_count": 38,
      "outputs": [
        {
          "output_type": "stream",
          "text": [
            "Train on 15000 samples, validate on 10000 samples\n",
            "Epoch 1/40\n",
            "15000/15000 [==============================] - 1s 69us/step - loss: 0.6539 - acc: 0.8169 - val_loss: 0.6300 - val_acc: 0.8441\n",
            "Epoch 2/40\n",
            "15000/15000 [==============================] - 0s 26us/step - loss: 0.5905 - acc: 0.9185 - val_loss: 0.5777 - val_acc: 0.8605\n",
            "Epoch 3/40\n",
            "15000/15000 [==============================] - 0s 26us/step - loss: 0.5242 - acc: 0.9237 - val_loss: 0.5192 - val_acc: 0.8686\n",
            "Epoch 4/40\n",
            "15000/15000 [==============================] - 0s 26us/step - loss: 0.4533 - acc: 0.9369 - val_loss: 0.4613 - val_acc: 0.8718\n",
            "Epoch 5/40\n",
            "15000/15000 [==============================] - 0s 27us/step - loss: 0.3868 - acc: 0.9395 - val_loss: 0.4107 - val_acc: 0.8733\n",
            "Epoch 6/40\n",
            "15000/15000 [==============================] - 0s 26us/step - loss: 0.3298 - acc: 0.9411 - val_loss: 0.3706 - val_acc: 0.8773\n",
            "Epoch 7/40\n",
            "15000/15000 [==============================] - 0s 26us/step - loss: 0.2834 - acc: 0.9452 - val_loss: 0.3413 - val_acc: 0.8807\n",
            "Epoch 8/40\n",
            "15000/15000 [==============================] - 0s 27us/step - loss: 0.2476 - acc: 0.9481 - val_loss: 0.3213 - val_acc: 0.8795\n",
            "Epoch 9/40\n",
            "15000/15000 [==============================] - 0s 26us/step - loss: 0.2202 - acc: 0.9504 - val_loss: 0.3073 - val_acc: 0.8812\n",
            "Epoch 10/40\n",
            "15000/15000 [==============================] - 0s 27us/step - loss: 0.1995 - acc: 0.9521 - val_loss: 0.2988 - val_acc: 0.8826\n",
            "Epoch 11/40\n",
            "15000/15000 [==============================] - 0s 26us/step - loss: 0.1829 - acc: 0.9531 - val_loss: 0.2927 - val_acc: 0.8835\n",
            "Epoch 12/40\n",
            "15000/15000 [==============================] - 0s 26us/step - loss: 0.1694 - acc: 0.9562 - val_loss: 0.2897 - val_acc: 0.8833\n",
            "Epoch 13/40\n",
            "15000/15000 [==============================] - 0s 26us/step - loss: 0.1581 - acc: 0.9589 - val_loss: 0.2879 - val_acc: 0.8846\n",
            "Epoch 14/40\n",
            "15000/15000 [==============================] - 0s 27us/step - loss: 0.1488 - acc: 0.9599 - val_loss: 0.2876 - val_acc: 0.8861\n",
            "Epoch 15/40\n",
            "15000/15000 [==============================] - 0s 26us/step - loss: 0.1402 - acc: 0.9623 - val_loss: 0.2880 - val_acc: 0.8855\n",
            "Epoch 16/40\n",
            "15000/15000 [==============================] - 0s 27us/step - loss: 0.1331 - acc: 0.9633 - val_loss: 0.2895 - val_acc: 0.8857\n",
            "Epoch 17/40\n",
            "15000/15000 [==============================] - 0s 26us/step - loss: 0.1263 - acc: 0.9655 - val_loss: 0.2916 - val_acc: 0.8833\n",
            "Epoch 18/40\n",
            "15000/15000 [==============================] - 0s 26us/step - loss: 0.1203 - acc: 0.9669 - val_loss: 0.2931 - val_acc: 0.8850\n",
            "Epoch 19/40\n",
            "15000/15000 [==============================] - 0s 27us/step - loss: 0.1148 - acc: 0.9687 - val_loss: 0.2971 - val_acc: 0.8838\n",
            "Epoch 20/40\n",
            "15000/15000 [==============================] - 0s 26us/step - loss: 0.1095 - acc: 0.9700 - val_loss: 0.2990 - val_acc: 0.8842\n",
            "Epoch 21/40\n",
            "15000/15000 [==============================] - 0s 24us/step - loss: 0.1052 - acc: 0.9709 - val_loss: 0.3022 - val_acc: 0.8839\n",
            "Epoch 22/40\n",
            "15000/15000 [==============================] - 0s 26us/step - loss: 0.1005 - acc: 0.9729 - val_loss: 0.3059 - val_acc: 0.8841\n",
            "Epoch 23/40\n",
            "15000/15000 [==============================] - 0s 28us/step - loss: 0.0970 - acc: 0.9738 - val_loss: 0.3093 - val_acc: 0.8832\n",
            "Epoch 24/40\n",
            "15000/15000 [==============================] - 0s 27us/step - loss: 0.0926 - acc: 0.9753 - val_loss: 0.3132 - val_acc: 0.8832\n",
            "Epoch 25/40\n",
            "15000/15000 [==============================] - 0s 26us/step - loss: 0.0888 - acc: 0.9762 - val_loss: 0.3181 - val_acc: 0.8822\n",
            "Epoch 26/40\n",
            "15000/15000 [==============================] - 0s 27us/step - loss: 0.0857 - acc: 0.9776 - val_loss: 0.3234 - val_acc: 0.8809\n",
            "Epoch 27/40\n",
            "15000/15000 [==============================] - 0s 27us/step - loss: 0.0824 - acc: 0.9775 - val_loss: 0.3256 - val_acc: 0.8816\n",
            "Epoch 28/40\n",
            "15000/15000 [==============================] - 0s 27us/step - loss: 0.0788 - acc: 0.9795 - val_loss: 0.3310 - val_acc: 0.8811\n",
            "Epoch 29/40\n",
            "15000/15000 [==============================] - 0s 26us/step - loss: 0.0758 - acc: 0.9806 - val_loss: 0.3351 - val_acc: 0.8800\n",
            "Epoch 30/40\n",
            "15000/15000 [==============================] - 0s 26us/step - loss: 0.0728 - acc: 0.9813 - val_loss: 0.3419 - val_acc: 0.8795\n",
            "Epoch 31/40\n",
            "15000/15000 [==============================] - 0s 27us/step - loss: 0.0704 - acc: 0.9823 - val_loss: 0.3462 - val_acc: 0.8787\n",
            "Epoch 32/40\n",
            "15000/15000 [==============================] - 0s 27us/step - loss: 0.0682 - acc: 0.9829 - val_loss: 0.3495 - val_acc: 0.8790\n",
            "Epoch 33/40\n",
            "15000/15000 [==============================] - 0s 27us/step - loss: 0.0650 - acc: 0.9840 - val_loss: 0.3541 - val_acc: 0.8778\n",
            "Epoch 34/40\n",
            "15000/15000 [==============================] - 0s 28us/step - loss: 0.0625 - acc: 0.9849 - val_loss: 0.3599 - val_acc: 0.8789\n",
            "Epoch 35/40\n",
            "15000/15000 [==============================] - 0s 27us/step - loss: 0.0603 - acc: 0.9853 - val_loss: 0.3649 - val_acc: 0.8781\n",
            "Epoch 36/40\n",
            "15000/15000 [==============================] - 0s 27us/step - loss: 0.0584 - acc: 0.9865 - val_loss: 0.3714 - val_acc: 0.8777\n",
            "Epoch 37/40\n",
            "15000/15000 [==============================] - 0s 28us/step - loss: 0.0559 - acc: 0.9878 - val_loss: 0.3752 - val_acc: 0.8775\n",
            "Epoch 38/40\n",
            "15000/15000 [==============================] - 0s 27us/step - loss: 0.0538 - acc: 0.9882 - val_loss: 0.3802 - val_acc: 0.8768\n",
            "Epoch 39/40\n",
            "15000/15000 [==============================] - 0s 27us/step - loss: 0.0517 - acc: 0.9885 - val_loss: 0.3896 - val_acc: 0.8764\n",
            "Epoch 40/40\n",
            "15000/15000 [==============================] - 0s 27us/step - loss: 0.0499 - acc: 0.9896 - val_loss: 0.3923 - val_acc: 0.8766\n"
          ],
          "name": "stdout"
        }
      ]
    },
    {
      "cell_type": "code",
      "metadata": {
        "id": "-VjbgIRtQA09",
        "colab_type": "code",
        "colab": {
          "base_uri": "https://localhost:8080/",
          "height": 50
        },
        "outputId": "7b73820c-c371-498a-fce0-416b52562fe2"
      },
      "source": [
        "results = model4.evaluate(X_test_enc, y_test)\n",
        "print(results)"
      ],
      "execution_count": 40,
      "outputs": [
        {
          "output_type": "stream",
          "text": [
            "25000/25000 [==============================] - 1s 36us/step\n",
            "[0.4182323659706116, 0.86428]\n"
          ],
          "name": "stdout"
        }
      ]
    },
    {
      "cell_type": "code",
      "metadata": {
        "id": "JBLJyE-HQCwV",
        "colab_type": "code",
        "colab": {}
      },
      "source": [
        ""
      ],
      "execution_count": 0,
      "outputs": []
    }
  ]
}